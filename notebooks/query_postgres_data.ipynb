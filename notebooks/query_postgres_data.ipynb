{
 "cells": [
  {
   "cell_type": "code",
   "execution_count": 4,
   "metadata": {
    "scrolled": true
   },
   "outputs": [
    {
     "name": "stdout",
     "output_type": "stream",
     "text": [
      "     usdot_num                                    id  \\\n",
      "0      3500694  003e5853-e612-4661-b889-1113a62212ba   \n",
      "1      3179208  0164fac5-9ed5-49e2-a60b-874a3a4e5760   \n",
      "2      2543958  018d14dc-a7d3-438d-8162-0acdfc926806   \n",
      "3      2955542  01bf5740-de67-4a41-a971-9266923a11a1   \n",
      "4      3307068  027b31c6-6493-47f2-82ca-92e223a7558b   \n",
      "..         ...                                   ...   \n",
      "469    1664920  fd0527f4-7811-40a6-b58c-cc3747479bbf   \n",
      "470    3165347  fd36740c-9817-4f8a-9fc8-6ca7901457d4   \n",
      "471    2258113  fd73ae75-e8a3-4486-a887-67c392f994d9   \n",
      "472    2258113  fe725ea1-2d8f-4820-af85-be129bc94530   \n",
      "473    3174328  ff53700d-11c6-4fd1-b56c-927e22f699ec   \n",
      "\n",
      "                             user_created              date_created  \\\n",
      "0    88f52f6b-b3f1-4ef4-ad24-a605f568e3ef  2024-02-16T17:59:52.992Z   \n",
      "1    88f52f6b-b3f1-4ef4-ad24-a605f568e3ef  2024-02-16T17:59:52.929Z   \n",
      "2    88f52f6b-b3f1-4ef4-ad24-a605f568e3ef  2024-02-16T18:00:14.278Z   \n",
      "3    88f52f6b-b3f1-4ef4-ad24-a605f568e3ef  2024-02-16T17:59:53.099Z   \n",
      "4    88f52f6b-b3f1-4ef4-ad24-a605f568e3ef  2024-02-16T18:00:14.690Z   \n",
      "..                                    ...                       ...   \n",
      "469  88f52f6b-b3f1-4ef4-ad24-a605f568e3ef  2024-02-16T17:59:53.038Z   \n",
      "470  88f52f6b-b3f1-4ef4-ad24-a605f568e3ef  2024-02-16T18:00:14.488Z   \n",
      "471  88f52f6b-b3f1-4ef4-ad24-a605f568e3ef  2024-02-16T17:59:52.966Z   \n",
      "472  88f52f6b-b3f1-4ef4-ad24-a605f568e3ef  2024-02-16T17:59:52.962Z   \n",
      "473  88f52f6b-b3f1-4ef4-ad24-a605f568e3ef  2024-02-16T17:59:53.169Z   \n",
      "\n",
      "    user_updated date_updated  \\\n",
      "0           None         None   \n",
      "1           None         None   \n",
      "2           None         None   \n",
      "3           None         None   \n",
      "4           None         None   \n",
      "..           ...          ...   \n",
      "469         None         None   \n",
      "470         None         None   \n",
      "471         None         None   \n",
      "472         None         None   \n",
      "473         None         None   \n",
      "\n",
      "                                   complaint_category  complaint_year  \\\n",
      "0    Consumer Complaint(Deceptive Business Practices)            2021   \n",
      "1                             Estimates/Final Charges            2021   \n",
      "2    Consumer Complaint(Deceptive Business Practices)            2022   \n",
      "3                                 Pickup and Delivery            2022   \n",
      "4                                            Weighing            2022   \n",
      "..                                                ...             ...   \n",
      "469                                Shipment Documents            2023   \n",
      "470                                Shipment Documents            2023   \n",
      "471                                           Hostage            2022   \n",
      "472                           Estimates/Final Charges            2022   \n",
      "473                           Estimates/Final Charges            2022   \n",
      "\n",
      "     complaint_count  \n",
      "0                  1  \n",
      "1                  1  \n",
      "2                  7  \n",
      "3                  2  \n",
      "4                  2  \n",
      "..               ...  \n",
      "469                1  \n",
      "470                2  \n",
      "471                1  \n",
      "472                3  \n",
      "473                2  \n",
      "\n",
      "[474 rows x 9 columns]\n"
     ]
    },
    {
     "name": "stderr",
     "output_type": "stream",
     "text": [
      "/tmp/ipykernel_796/2801149074.py:5: UserWarning: pandas only supports SQLAlchemy connectable (engine/connection) or database string URI or sqlite3 DBAPI2 connection. Other DBAPI2 objects are not tested. Please consider using SQLAlchemy.\n",
      "  df = pd.read_sql('select * from public.fmcsa_complaints', con=engine)\n"
     ]
    }
   ],
   "source": [
    "import pandas as pd\n",
    "import psycopg2 as pg\n",
    "\n",
    "engine = pg.connect(\"dbname='clever' user='clever' host='postgres_clever' port='5432' password='clever'\")\n",
    "df = pd.read_sql('select * from public.fmcsa_complaints', con=engine)\n",
    "\n",
    "print(df)\n"
   ]
  }
 ],
 "metadata": {
  "kernelspec": {
   "display_name": "Python 3 (ipykernel)",
   "language": "python",
   "name": "python3"
  },
  "language_info": {
   "codemirror_mode": {
    "name": "ipython",
    "version": 3
   },
   "file_extension": ".py",
   "mimetype": "text/x-python",
   "name": "python",
   "nbconvert_exporter": "python",
   "pygments_lexer": "ipython3",
   "version": "3.11.6"
  }
 },
 "nbformat": 4,
 "nbformat_minor": 4
}
